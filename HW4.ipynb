{
 "cells": [
  {
   "cell_type": "markdown",
   "id": "3e0efe5f",
   "metadata": {},
   "source": [
    "# Input data"
   ]
  },
  {
   "cell_type": "markdown",
   "id": "f8ef5d93",
   "metadata": {},
   "source": [
    "documents -- list of all documents\n",
    "\n",
    "shelf -- dictionary of places where the documents are stored"
   ]
  },
  {
   "cell_type": "code",
   "execution_count": 1,
   "id": "af61326b",
   "metadata": {},
   "outputs": [],
   "source": [
    "documents = [\n",
    "{'type': 'passport', 'number': '2207 876234', 'name': 'Василий Гупкин'},\n",
    "{'type': 'invoice', 'number': '11-2', 'name': 'Геннадий Покемонов'},\n",
    "{'type': 'insurance', 'number': '10006', 'name': 'Аристарх Павлов'}\n",
    "]"
   ]
  },
  {
   "cell_type": "code",
   "execution_count": 2,
   "id": "caee8eb4",
   "metadata": {},
   "outputs": [],
   "source": [
    "directories = {\n",
    "'1': ['2207 876234', '11-2'],\n",
    "'2': ['10006'],\n",
    "'3': []\n",
    "}"
   ]
  },
  {
   "cell_type": "markdown",
   "id": "ecd36a3b",
   "metadata": {},
   "source": [
    "# Task 1"
   ]
  },
  {
   "cell_type": "markdown",
   "id": "e2a05065",
   "metadata": {},
   "source": [
    "Input: document number\n",
    "\n",
    "Output: document owner"
   ]
  },
  {
   "cell_type": "code",
   "execution_count": null,
   "id": "42ed737f",
   "metadata": {},
   "outputs": [],
   "source": []
  },
  {
   "cell_type": "code",
   "execution_count": null,
   "id": "eaa8605f",
   "metadata": {},
   "outputs": [],
   "source": []
  },
  {
   "cell_type": "markdown",
   "id": "a0705d29",
   "metadata": {},
   "source": [
    "# Task 2"
   ]
  },
  {
   "cell_type": "markdown",
   "id": "5a00229b",
   "metadata": {},
   "source": [
    "Input: document number\n",
    "\n",
    "Output: shelf where the document is located"
   ]
  },
  {
   "cell_type": "code",
   "execution_count": null,
   "id": "ce0780ee",
   "metadata": {},
   "outputs": [],
   "source": []
  },
  {
   "cell_type": "code",
   "execution_count": null,
   "id": "b2b9d8d4",
   "metadata": {},
   "outputs": [],
   "source": []
  },
  {
   "cell_type": "markdown",
   "id": "ef1ff4c0",
   "metadata": {},
   "source": [
    "# Task 3"
   ]
  },
  {
   "cell_type": "markdown",
   "id": "7fcd3066",
   "metadata": {},
   "source": [
    "Output: info about all documents"
   ]
  },
  {
   "cell_type": "code",
   "execution_count": null,
   "id": "dff4dd4c",
   "metadata": {},
   "outputs": [],
   "source": []
  },
  {
   "cell_type": "markdown",
   "id": "9db44a2f",
   "metadata": {},
   "source": [
    "# Task 4"
   ]
  },
  {
   "cell_type": "markdown",
   "id": "d7d4b1d2",
   "metadata": {},
   "source": [
    "Input: number of shelf\n",
    "\n",
    "Result: new shelf is added, display current list of shelves"
   ]
  },
  {
   "cell_type": "code",
   "execution_count": null,
   "id": "819017db",
   "metadata": {},
   "outputs": [],
   "source": []
  },
  {
   "cell_type": "code",
   "execution_count": null,
   "id": "55c9f6e2",
   "metadata": {},
   "outputs": [],
   "source": []
  },
  {
   "cell_type": "markdown",
   "id": "087e9835",
   "metadata": {},
   "source": [
    "# Task 5"
   ]
  },
  {
   "cell_type": "markdown",
   "id": "6d4af19c",
   "metadata": {},
   "source": [
    "Input: number of shelf\n",
    "\n",
    "Result: shelf is deleted if empty, display current list of shelves"
   ]
  },
  {
   "cell_type": "code",
   "execution_count": null,
   "id": "c8d8112b",
   "metadata": {},
   "outputs": [],
   "source": [
    "def delete_shelf():\n",
    "    shelf_to_remove = input('Input the shelf number: ')\n",
    "    if shelf_to_remove in directories.keys():\n",
    "        if directories[shelf_to_remove] == []:\n",
    "            del(directories[shelf_to_remove])\n",
    "            print('This shelf is removed')\n",
    "        else:\n",
    "            print('This shelf contains documents. Delete documents before deleting the shelf.')\n",
    "    else:\n",
    "        print('This shelf not exists')\n",
    "    display_shelves()"
   ]
  },
  {
   "cell_type": "markdown",
   "id": "72fb9a48",
   "metadata": {},
   "source": [
    "# Task 6"
   ]
  },
  {
   "cell_type": "markdown",
   "id": "31f20cd6",
   "metadata": {},
   "source": [
    "Input: info about new document\n",
    "\n",
    "Result: add new document if shelf exists. Display all documents"
   ]
  },
  {
   "cell_type": "code",
   "execution_count": null,
   "id": "17d9609c",
   "metadata": {},
   "outputs": [],
   "source": []
  },
  {
   "cell_type": "markdown",
   "id": "6babc372",
   "metadata": {},
   "source": [
    "# Task 7"
   ]
  },
  {
   "cell_type": "markdown",
   "id": "736955d4",
   "metadata": {},
   "source": [
    "Input: number of document\n",
    "\n",
    "Result: delete document if exists. Display all documents"
   ]
  },
  {
   "cell_type": "code",
   "execution_count": null,
   "id": "e1770817",
   "metadata": {},
   "outputs": [],
   "source": []
  },
  {
   "cell_type": "markdown",
   "id": "4c8243d9",
   "metadata": {},
   "source": [
    "# Task 8"
   ]
  },
  {
   "cell_type": "markdown",
   "id": "dfca45e2",
   "metadata": {},
   "source": [
    "Input: number of document, shelf\n",
    "\n",
    "Result: change shelf of the document if possible. Display all documents"
   ]
  },
  {
   "cell_type": "code",
   "execution_count": null,
   "id": "dbd48722",
   "metadata": {},
   "outputs": [],
   "source": []
  },
  {
   "cell_type": "markdown",
   "id": "019c9254",
   "metadata": {},
   "source": [
    "# Main part of program"
   ]
  },
  {
   "cell_type": "code",
   "execution_count": 3,
   "id": "02a4ec20",
   "metadata": {},
   "outputs": [],
   "source": [
    "def execute_command(command):\n",
    "    if command == 'p': display_owner_by_number()\n",
    "    if command == 's': display_shelf_by_number()\n",
    "    if command == 'l': display_info_about_documents()\n",
    "    if command == 'ads': add_shelf()\n",
    "    if command == 'ds': delete_shelf()\n",
    "    if command == 'ad': add_document()\n",
    "    if command == 'd': delete_document()\n",
    "    if command == 'm': move_document()"
   ]
  },
  {
   "cell_type": "code",
   "execution_count": 5,
   "id": "02568063",
   "metadata": {},
   "outputs": [
    {
     "name": "stdout",
     "output_type": "stream",
     "text": [
      "Input command: q\n"
     ]
    }
   ],
   "source": [
    "input_command = None\n",
    "while input_command != 'q':\n",
    "    input_command = input('Input command: ')\n",
    "    execute_command(input_command)"
   ]
  },
  {
   "cell_type": "code",
   "execution_count": null,
   "id": "3e9a4c55",
   "metadata": {},
   "outputs": [],
   "source": []
  }
 ],
 "metadata": {
  "kernelspec": {
   "display_name": "Python 3 (ipykernel)",
   "language": "python",
   "name": "python3"
  },
  "language_info": {
   "codemirror_mode": {
    "name": "ipython",
    "version": 3
   },
   "file_extension": ".py",
   "mimetype": "text/x-python",
   "name": "python",
   "nbconvert_exporter": "python",
   "pygments_lexer": "ipython3",
   "version": "3.9.7"
  }
 },
 "nbformat": 4,
 "nbformat_minor": 5
}
